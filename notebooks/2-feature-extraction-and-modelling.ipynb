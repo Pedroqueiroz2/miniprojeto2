{
 "cells": [
  {
   "cell_type": "markdown",
   "metadata": {},
   "source": [
    "# Extração de Features e Construção do Modelo"
   ]
  },
  {
   "cell_type": "markdown",
   "metadata": {},
   "source": [
    "### 1. Introdução a Extração de Features\n",
    "- A extração de features é uma parte muito importante na análise e na identificação de relações entre diferentes elementos. Como já sabemos, os dados de áudio não podem ser compreendidos diretamente pelos modelos, então precisamos convertê-los para um formato inteligível, e é para isso que a extração de features é utilizada.\n"
   ]
  },
  {
   "cell_type": "markdown",
   "metadata": {},
   "source": [
    "#### Com a taxa de amostragem e os dados do sinal, podemos realizar diversas transformações para extrair características valiosas do áudio. No entanto, neste projeto, não vamos aprofundar no processo de seleção de features para identificar quais são mais relevantes para o nosso dataset. Em vez disso, vamos extrair cinco features principais para treinar nosso modelo:\n",
    "- **Zero Crossing Rate (ZCR):** Mede a taxa de mudanças de sinal no áudio, ou seja, quantas vezes ele cruza o eixo zero em um determinado intervalo de tempo. Essa feature é útil para distinguir sons percussivos e não percussivos.\n",
    "- **Chroma STFT:** Representa a energia espectral em 12 bins correspondentes às notas da escala musical ocidental. Essa característica é útil para identificar padrões harmônicos no áudio.\n",
    "- **MFCC (Mel-Frequency Cepstral Coefficients):** Converte a frequência do áudio para a escala mel, aproximando-se da percepção auditiva humana. É uma das features mais utilizadas em reconhecimento de fala e emoção.\n",
    "- **RMS (Root Mean Square):** Mede a energia do sinal ao calcular a média quadrática das amplitudes do áudio. Essa feature ajuda a representar a intensidade do som.\n",
    "- **Mel Spectrogram:** Representa a distribuição de energia do áudio em diferentes faixas de frequência na escala mel, capturando informações espectrais essenciais."
   ]
  },
  {
   "cell_type": "markdown",
   "metadata": {},
   "source": [
    "### 1.1. Importando as bibliotecas"
   ]
  },
  {
   "cell_type": "code",
   "execution_count": 136,
   "metadata": {},
   "outputs": [],
   "source": [
    "import pandas as pd\n",
    "import numpy as np\n",
    "\n",
    "import pickle\n",
    "import os\n",
    "import sys\n",
    "\n",
    "import librosa\n",
    "import librosa.display\n",
    "import seaborn as sns\n",
    "import matplotlib.pyplot as plt\n",
    "\n",
    "from sklearn.preprocessing import StandardScaler, OneHotEncoder\n",
    "from sklearn.metrics import confusion_matrix, classification_report\n",
    "from sklearn.model_selection import train_test_split\n",
    "\n",
    "from IPython.display import Audio\n",
    "\n",
    "import keras\n",
    "from keras.callbacks import ReduceLROnPlateau\n",
    "from keras.models import Sequential\n",
    "from keras.layers import Dense, Conv1D, MaxPooling1D, Flatten, Dropout, BatchNormalization\n",
    "from keras.utils import to_categorical\n",
    "from keras.callbacks import ModelCheckpoint\n",
    "\n",
    "import warnings\n",
    "if not sys.warnoptions:\n",
    "    warnings.simplefilter(\"ignore\")\n",
    "warnings.filterwarnings(\"ignore\", category=DeprecationWarning) "
   ]
  },
  {
   "cell_type": "markdown",
   "metadata": {},
   "source": [
    "### 1.2. Carregar o Dataframe da EDA "
   ]
  },
  {
   "cell_type": "code",
   "execution_count": 137,
   "metadata": {},
   "outputs": [],
   "source": [
    "data_path = r\"C:\\Users\\slash\\OneDrive\\Área de Trabalho\\TRILHA\\Mini_projeto_2\\miniprojeto2\\data\\ravdess_preprocessed.csv\"\n",
    "df = pd.read_csv(data_path)"
   ]
  },
  {
   "cell_type": "code",
   "execution_count": 138,
   "metadata": {},
   "outputs": [
    {
     "data": {
      "text/html": [
       "<div>\n",
       "<style scoped>\n",
       "    .dataframe tbody tr th:only-of-type {\n",
       "        vertical-align: middle;\n",
       "    }\n",
       "\n",
       "    .dataframe tbody tr th {\n",
       "        vertical-align: top;\n",
       "    }\n",
       "\n",
       "    .dataframe thead th {\n",
       "        text-align: right;\n",
       "    }\n",
       "</style>\n",
       "<table border=\"1\" class=\"dataframe\">\n",
       "  <thead>\n",
       "    <tr style=\"text-align: right;\">\n",
       "      <th></th>\n",
       "      <th>Emotions</th>\n",
       "      <th>Path</th>\n",
       "      <th>Processed_Path</th>\n",
       "    </tr>\n",
       "  </thead>\n",
       "  <tbody>\n",
       "    <tr>\n",
       "      <th>0</th>\n",
       "      <td>neutral</td>\n",
       "      <td>C:\\Users\\slash\\OneDrive\\Área de Trabalho\\TRILH...</td>\n",
       "      <td>c:\\Users\\slash\\OneDrive\\Área de Trabalho\\TRILH...</td>\n",
       "    </tr>\n",
       "    <tr>\n",
       "      <th>1</th>\n",
       "      <td>neutral</td>\n",
       "      <td>C:\\Users\\slash\\OneDrive\\Área de Trabalho\\TRILH...</td>\n",
       "      <td>c:\\Users\\slash\\OneDrive\\Área de Trabalho\\TRILH...</td>\n",
       "    </tr>\n",
       "    <tr>\n",
       "      <th>2</th>\n",
       "      <td>neutral</td>\n",
       "      <td>C:\\Users\\slash\\OneDrive\\Área de Trabalho\\TRILH...</td>\n",
       "      <td>c:\\Users\\slash\\OneDrive\\Área de Trabalho\\TRILH...</td>\n",
       "    </tr>\n",
       "    <tr>\n",
       "      <th>3</th>\n",
       "      <td>neutral</td>\n",
       "      <td>C:\\Users\\slash\\OneDrive\\Área de Trabalho\\TRILH...</td>\n",
       "      <td>c:\\Users\\slash\\OneDrive\\Área de Trabalho\\TRILH...</td>\n",
       "    </tr>\n",
       "    <tr>\n",
       "      <th>4</th>\n",
       "      <td>calm</td>\n",
       "      <td>C:\\Users\\slash\\OneDrive\\Área de Trabalho\\TRILH...</td>\n",
       "      <td>c:\\Users\\slash\\OneDrive\\Área de Trabalho\\TRILH...</td>\n",
       "    </tr>\n",
       "    <tr>\n",
       "      <th>...</th>\n",
       "      <td>...</td>\n",
       "      <td>...</td>\n",
       "      <td>...</td>\n",
       "    </tr>\n",
       "    <tr>\n",
       "      <th>1435</th>\n",
       "      <td>surprise</td>\n",
       "      <td>C:\\Users\\slash\\OneDrive\\Área de Trabalho\\TRILH...</td>\n",
       "      <td>c:\\Users\\slash\\OneDrive\\Área de Trabalho\\TRILH...</td>\n",
       "    </tr>\n",
       "    <tr>\n",
       "      <th>1436</th>\n",
       "      <td>surprise</td>\n",
       "      <td>C:\\Users\\slash\\OneDrive\\Área de Trabalho\\TRILH...</td>\n",
       "      <td>c:\\Users\\slash\\OneDrive\\Área de Trabalho\\TRILH...</td>\n",
       "    </tr>\n",
       "    <tr>\n",
       "      <th>1437</th>\n",
       "      <td>surprise</td>\n",
       "      <td>C:\\Users\\slash\\OneDrive\\Área de Trabalho\\TRILH...</td>\n",
       "      <td>c:\\Users\\slash\\OneDrive\\Área de Trabalho\\TRILH...</td>\n",
       "    </tr>\n",
       "    <tr>\n",
       "      <th>1438</th>\n",
       "      <td>surprise</td>\n",
       "      <td>C:\\Users\\slash\\OneDrive\\Área de Trabalho\\TRILH...</td>\n",
       "      <td>c:\\Users\\slash\\OneDrive\\Área de Trabalho\\TRILH...</td>\n",
       "    </tr>\n",
       "    <tr>\n",
       "      <th>1439</th>\n",
       "      <td>surprise</td>\n",
       "      <td>C:\\Users\\slash\\OneDrive\\Área de Trabalho\\TRILH...</td>\n",
       "      <td>c:\\Users\\slash\\OneDrive\\Área de Trabalho\\TRILH...</td>\n",
       "    </tr>\n",
       "  </tbody>\n",
       "</table>\n",
       "<p>1440 rows × 3 columns</p>\n",
       "</div>"
      ],
      "text/plain": [
       "      Emotions                                               Path  \\\n",
       "0      neutral  C:\\Users\\slash\\OneDrive\\Área de Trabalho\\TRILH...   \n",
       "1      neutral  C:\\Users\\slash\\OneDrive\\Área de Trabalho\\TRILH...   \n",
       "2      neutral  C:\\Users\\slash\\OneDrive\\Área de Trabalho\\TRILH...   \n",
       "3      neutral  C:\\Users\\slash\\OneDrive\\Área de Trabalho\\TRILH...   \n",
       "4         calm  C:\\Users\\slash\\OneDrive\\Área de Trabalho\\TRILH...   \n",
       "...        ...                                                ...   \n",
       "1435  surprise  C:\\Users\\slash\\OneDrive\\Área de Trabalho\\TRILH...   \n",
       "1436  surprise  C:\\Users\\slash\\OneDrive\\Área de Trabalho\\TRILH...   \n",
       "1437  surprise  C:\\Users\\slash\\OneDrive\\Área de Trabalho\\TRILH...   \n",
       "1438  surprise  C:\\Users\\slash\\OneDrive\\Área de Trabalho\\TRILH...   \n",
       "1439  surprise  C:\\Users\\slash\\OneDrive\\Área de Trabalho\\TRILH...   \n",
       "\n",
       "                                         Processed_Path  \n",
       "0     c:\\Users\\slash\\OneDrive\\Área de Trabalho\\TRILH...  \n",
       "1     c:\\Users\\slash\\OneDrive\\Área de Trabalho\\TRILH...  \n",
       "2     c:\\Users\\slash\\OneDrive\\Área de Trabalho\\TRILH...  \n",
       "3     c:\\Users\\slash\\OneDrive\\Área de Trabalho\\TRILH...  \n",
       "4     c:\\Users\\slash\\OneDrive\\Área de Trabalho\\TRILH...  \n",
       "...                                                 ...  \n",
       "1435  c:\\Users\\slash\\OneDrive\\Área de Trabalho\\TRILH...  \n",
       "1436  c:\\Users\\slash\\OneDrive\\Área de Trabalho\\TRILH...  \n",
       "1437  c:\\Users\\slash\\OneDrive\\Área de Trabalho\\TRILH...  \n",
       "1438  c:\\Users\\slash\\OneDrive\\Área de Trabalho\\TRILH...  \n",
       "1439  c:\\Users\\slash\\OneDrive\\Área de Trabalho\\TRILH...  \n",
       "\n",
       "[1440 rows x 3 columns]"
      ]
     },
     "execution_count": 138,
     "metadata": {},
     "output_type": "execute_result"
    }
   ],
   "source": [
    "df"
   ]
  },
  {
   "cell_type": "markdown",
   "metadata": {},
   "source": [
    "### 2. Criando uma função para extração das features"
   ]
  },
  {
   "cell_type": "markdown",
   "metadata": {},
   "source": [
    "##### Fizemos essa parte no notebook passado, então você pode copiar e colar o código das funções aqui, pois precisaremos delas:"
   ]
  },
  {
   "cell_type": "code",
   "execution_count": null,
   "metadata": {},
   "outputs": [],
   "source": [
    "def noise(data):\n",
    "    # Code here\n",
    "    noise = np.random.normal(0, data.max(), data.shape)\n",
    "    data_with_noise = data + noise * 0.01\n",
    "    return data_with_noise\n",
    "\n",
    "def stretch(data, rate=0.8):\n",
    "    # Code here\n",
    "    audio_slow = librosa.effects.time_stretch(data, rate=0.8)\n",
    "    return audio_slow\n",
    "\n",
    "def shift(data):\n",
    "    # Code here\n",
    "    data_roll = np.roll(data, 10)\n",
    "    return data_roll\n",
    "\n",
    "def pitch(data, sampling_rate, pitch_factor=0.7):\n",
    "    # Code here\n",
    "    y_shifted = librosa.effects.pitch_shift(data, sr = sampling_rate , n_steps=2)\n",
    "    return y_shifted\n",
    "\n",
    "# Taking any example and checking for techniques.\n",
    "path = np.array(df.Path)[1]\n",
    "data, sample_rate = librosa.load(path)"
   ]
  },
  {
   "cell_type": "markdown",
   "metadata": {},
   "source": [
    "##### Aqui você deve extrair essas features de fato... mais tarde você precisará delas :)"
   ]
  },
  {
   "cell_type": "code",
   "execution_count": null,
   "metadata": {},
   "outputs": [],
   "source": [
    "def extract_features(data, sample_rate): \n",
    "    result = np.array([]) #criando matriz com 0 elementos\n",
    "\n",
    "    # Zero Crossing Rate\n",
    "    # Code here \n",
    "\n",
    "    #mede com que frequencia o sinal de audio cruza o eixo zero\n",
    "    zcr = np.mean(librosa.feature.zero_crossing_rate(y = data), axis=1)\n",
    "\n",
    "    result = np.hstack((result, zcr))\n",
    "\n",
    "    # Chroma_stft\n",
    "    # Code here \n",
    "\n",
    "    #calcula a representacao cromatica de um sinal de audio (12 notas da escala musical)\n",
    "    chroma = np.mean(librosa.feature.chroma_stft(y =data, sr= sample_rate), axis=1)\n",
    "\n",
    "    result = np.hstack((result, chroma))\n",
    "\n",
    "    # MFCC\n",
    "    # Code here \n",
    "\n",
    "    mfcc = np.mean(librosa.feature.mfcc(y =data, sr= sample_rate), axis=1)\n",
    "\n",
    "    result = np.hstack((result, mfcc))\n",
    "\n",
    "    # Root Mean Square Value\n",
    "    # Code here \n",
    "\n",
    "    #mede a energia do sinal\n",
    "    rms = np.mean(librosa.feature.rms(y =data), axis=1)\n",
    "\n",
    "    result = np.hstack((result, rms))\n",
    "\n",
    "    # MelSpectrogram\n",
    "    # Code here \n",
    "    \n",
    "    #transformado para a escala mel, que é mais próxima da percepção humana\n",
    "    mel = np.mean(librosa.feature.melspectrogram(y =data, sr= sample_rate), axis=1)\n",
    "\n",
    "    result = np.hstack((result, mel))\n",
    "    \n",
    "    return result\n",
    "\n",
    "def get_features(path):\n",
    "    # Carregar áudio\n",
    "    data, sample_rate = librosa.load(path, duration=2.5, offset=0.6)\n",
    "\n",
    "    # Sem aumento de dados\n",
    "    res1 = extract_features(data, sample_rate)  \n",
    "    result = np.array(res1)\n",
    "\n",
    "    # Com ruído\n",
    "    noise_data = noise(data)\n",
    "    res2 = extract_features(noise_data, sample_rate)  \n",
    "    result = np.vstack((result, res2))\n",
    "\n",
    "    # Com alongamento e mudança de pitch\n",
    "    new_data = stretch(data)\n",
    "    data_stretch_pitch = pitch(new_data, sample_rate)\n",
    "    res3 = extract_features(data_stretch_pitch, sample_rate) \n",
    "    result = np.vstack((result, res3))\n",
    "    \n",
    "    return result"
   ]
  },
  {
   "cell_type": "markdown",
   "metadata": {},
   "source": [
    "##### Rode as células abaixo"
   ]
  },
  {
   "cell_type": "code",
   "execution_count": 141,
   "metadata": {},
   "outputs": [],
   "source": [
    "X, Y = [], []\n",
    "for path, emotion in zip(df['Path'], df['Emotions']):\n",
    "    feature = get_features(path)\n",
    "    # Appending emotion 3 times as we have made 3 augmentation techniques on each audio file.\n",
    "    for ele in feature:\n",
    "        X.append(ele)\n",
    "        Y.append(emotion)\n",
    "\n",
    "#Estava dando erro de dimensões \n",
    "#Perguntar aos monitores sobre o .mean() e a relação com as dimensões"
   ]
  },
  {
   "cell_type": "code",
   "execution_count": 142,
   "metadata": {},
   "outputs": [
    {
     "data": {
      "text/plain": [
       "(4320, 4320, (1440,))"
      ]
     },
     "execution_count": 142,
     "metadata": {},
     "output_type": "execute_result"
    }
   ],
   "source": [
    "len(X), len(Y), df.Path.shape"
   ]
  },
  {
   "cell_type": "markdown",
   "metadata": {},
   "source": [
    "##### Agora você deverá salvar o csv de features (features.csv)"
   ]
  },
  {
   "cell_type": "code",
   "execution_count": 143,
   "metadata": {},
   "outputs": [
    {
     "name": "stdout",
     "output_type": "stream",
     "text": [
      "O arquivo foi salvo em: c:\\Users\\slash\\OneDrive\\Área de Trabalho\\TRILHA\\Mini_projeto_2\\miniprojeto2\\data\\features.csv\n"
     ]
    }
   ],
   "source": [
    "# Definir o caminho correto para a pasta 'data' na raiz do projeto\n",
    "data_dir = os.path.join(os.path.dirname(os.getcwd()), \"data\")\n",
    "os.makedirs(data_dir, exist_ok=True)\n",
    "\n",
    "# Caminho correto para salvar o CSV na pasta 'data' da raiz do projeto\n",
    "csv_path = os.path.join(data_dir, \"features.csv\")\n",
    "\n",
    "# Crie um DataFrame do pandas chamado Features usando a lista X.\n",
    "# Adicione uma coluna 'labels' ao DataFrame usando a lista Y.\n",
    "# Salve o DataFrame como um arquivo CSV no caminho definido, sem incluir o índice, definindo _index_=False\n",
    "# Code here\n",
    "\n",
    "Features = pd.DataFrame(X)\n",
    "Features['labels'] = Y\n",
    "\n",
    "Features.to_csv('csv_path', index=False)\n",
    "\n",
    "print(f\"O arquivo foi salvo em: {csv_path}\")"
   ]
  },
  {
   "cell_type": "markdown",
   "metadata": {},
   "source": [
    "### 2.1. Data Preparation (Preparação dos Dados)"
   ]
  },
  {
   "cell_type": "code",
   "execution_count": 185,
   "metadata": {},
   "outputs": [],
   "source": [
    "X = Features.drop('labels', axis= 1).values\n",
    "Y = Features['labels'].values"
   ]
  },
  {
   "cell_type": "code",
   "execution_count": 186,
   "metadata": {},
   "outputs": [
    {
     "data": {
      "text/plain": [
       "(4320, 8)"
      ]
     },
     "execution_count": 186,
     "metadata": {},
     "output_type": "execute_result"
    }
   ],
   "source": [
    "# Use OneHotEncoder para transformar o Y em uma representação binária categórica, necessária para problemas de classificação multiclasse\n",
    "# Code here\n",
    "\n",
    "encoder = OneHotEncoder(sparse_output= False)\n",
    "y_reshaped = np.array(Y).reshape(-1, 1)\n",
    "Y = encoder.fit_transform(y_reshaped)\n",
    "\n",
    "Y.shape\n"
   ]
  },
  {
   "cell_type": "code",
   "execution_count": 187,
   "metadata": {},
   "outputs": [
    {
     "data": {
      "text/plain": [
       "((3672, 162), (648, 162), (3672, 8), (648, 8))"
      ]
     },
     "execution_count": 187,
     "metadata": {},
     "output_type": "execute_result"
    }
   ],
   "source": [
    "# Use train_test_split do scikit-learn para dividir X e Y em conjuntos de treino e teste\n",
    "# Code here\n",
    "\n",
    "x_train, x_test, y_train, y_test = train_test_split(X, Y, test_size=0.15, random_state=42) #15% dos dados serão usados para teste e o restante para treinamento\n",
    "\n",
    "x_train.shape, x_test.shape, y_train.shape, y_test.shape  #eh uma propriedade do array NumPy que retorna a forma do array, ou seja, o número de linhas e colunas\n",
    "\n",
    "#Se voce tem poucos dados (um conjunto limitado), seria viavel o modelo ter os conjunto de treinamentos 85/15\n",
    "#Para um conjunto de dados maiorzinhos, o ideal é o modelo ter o conjunto de treinamentos 80/20"
   ]
  },
  {
   "cell_type": "code",
   "execution_count": 188,
   "metadata": {},
   "outputs": [],
   "source": [
    "# Utilize StandardScaler do sklearn para normalizar as características de X\n",
    "# Code here\n",
    "scaler = StandardScaler() #Para normalizar\n",
    "x_train = scaler.fit_transform(x_train) #Normalizando conjunto de treinamento de treino\n",
    "x_test = scaler.fit_transform(x_test) #Normalizando conjunto de treinamento testes\n",
    "\n"
   ]
  },
  {
   "cell_type": "code",
   "execution_count": 189,
   "metadata": {},
   "outputs": [
    {
     "data": {
      "text/plain": [
       "((3672, 162, 1), (3672, 8), (648, 162, 1), (648, 8))"
      ]
     },
     "execution_count": 189,
     "metadata": {},
     "output_type": "execute_result"
    }
   ],
   "source": [
    "# Rode essa célula para deixar as dimensões certinhas com o modelo que iremos criar.\n",
    "x_train = np.expand_dims(x_train, axis=2)\n",
    "x_test = np.expand_dims(x_test, axis=2)\n",
    "x_train.shape, y_train.shape, x_test.shape, y_test.shape\n"
   ]
  },
  {
   "cell_type": "markdown",
   "metadata": {},
   "source": [
    "### 3. Model Training (Modelling)"
   ]
  },
  {
   "cell_type": "markdown",
   "metadata": {},
   "source": [
    "#### O modelo que vamos usar é uma rede neural convolucional (CNN) projetada para processar os dados extraídos dos arquivos de áudio. Essa estrutura é ideal para capturar padrões espectrais, como variações de tom e intensidade. A CNN é composta por:\n",
    "- Camadas Convolucionais (Conv1D): Extraem características do espectro do áudio.\n",
    "- Camadas de Pooling (MaxPooling1D): Reduzem a dimensionalidade e capturam as informações mais relevantes.\n",
    "- Dropout: Ajuda a evitar overfitting.\n",
    "- Camada Flatten: Transforma os mapas de features em um vetor de entrada para a camada totalmente conectada.\n",
    "- Camadas Densas (Dense): Realizam a classificação final usando a função de ativação softmax."
   ]
  },
  {
   "cell_type": "code",
   "execution_count": 149,
   "metadata": {},
   "outputs": [
    {
     "data": {
      "text/html": [
       "<pre style=\"white-space:pre;overflow-x:auto;line-height:normal;font-family:Menlo,'DejaVu Sans Mono',consolas,'Courier New',monospace\"><span style=\"font-weight: bold\">Model: \"sequential_6\"</span>\n",
       "</pre>\n"
      ],
      "text/plain": [
       "\u001b[1mModel: \"sequential_6\"\u001b[0m\n"
      ]
     },
     "metadata": {},
     "output_type": "display_data"
    },
    {
     "data": {
      "text/html": [
       "<pre style=\"white-space:pre;overflow-x:auto;line-height:normal;font-family:Menlo,'DejaVu Sans Mono',consolas,'Courier New',monospace\">┏━━━━━━━━━━━━━━━━━━━━━━━━━━━━━━━━━┳━━━━━━━━━━━━━━━━━━━━━━━━┳━━━━━━━━━━━━━━━┓\n",
       "┃<span style=\"font-weight: bold\"> Layer (type)                    </span>┃<span style=\"font-weight: bold\"> Output Shape           </span>┃<span style=\"font-weight: bold\">       Param # </span>┃\n",
       "┡━━━━━━━━━━━━━━━━━━━━━━━━━━━━━━━━━╇━━━━━━━━━━━━━━━━━━━━━━━━╇━━━━━━━━━━━━━━━┩\n",
       "│ conv1d_24 (<span style=\"color: #0087ff; text-decoration-color: #0087ff\">Conv1D</span>)              │ (<span style=\"color: #00d7ff; text-decoration-color: #00d7ff\">None</span>, <span style=\"color: #00af00; text-decoration-color: #00af00\">162</span>, <span style=\"color: #00af00; text-decoration-color: #00af00\">256</span>)       │         <span style=\"color: #00af00; text-decoration-color: #00af00\">1,536</span> │\n",
       "├─────────────────────────────────┼────────────────────────┼───────────────┤\n",
       "│ max_pooling1d_24 (<span style=\"color: #0087ff; text-decoration-color: #0087ff\">MaxPooling1D</span>) │ (<span style=\"color: #00d7ff; text-decoration-color: #00d7ff\">None</span>, <span style=\"color: #00af00; text-decoration-color: #00af00\">81</span>, <span style=\"color: #00af00; text-decoration-color: #00af00\">256</span>)        │             <span style=\"color: #00af00; text-decoration-color: #00af00\">0</span> │\n",
       "├─────────────────────────────────┼────────────────────────┼───────────────┤\n",
       "│ conv1d_25 (<span style=\"color: #0087ff; text-decoration-color: #0087ff\">Conv1D</span>)              │ (<span style=\"color: #00d7ff; text-decoration-color: #00d7ff\">None</span>, <span style=\"color: #00af00; text-decoration-color: #00af00\">81</span>, <span style=\"color: #00af00; text-decoration-color: #00af00\">256</span>)        │       <span style=\"color: #00af00; text-decoration-color: #00af00\">327,936</span> │\n",
       "├─────────────────────────────────┼────────────────────────┼───────────────┤\n",
       "│ max_pooling1d_25 (<span style=\"color: #0087ff; text-decoration-color: #0087ff\">MaxPooling1D</span>) │ (<span style=\"color: #00d7ff; text-decoration-color: #00d7ff\">None</span>, <span style=\"color: #00af00; text-decoration-color: #00af00\">41</span>, <span style=\"color: #00af00; text-decoration-color: #00af00\">256</span>)        │             <span style=\"color: #00af00; text-decoration-color: #00af00\">0</span> │\n",
       "├─────────────────────────────────┼────────────────────────┼───────────────┤\n",
       "│ conv1d_26 (<span style=\"color: #0087ff; text-decoration-color: #0087ff\">Conv1D</span>)              │ (<span style=\"color: #00d7ff; text-decoration-color: #00d7ff\">None</span>, <span style=\"color: #00af00; text-decoration-color: #00af00\">41</span>, <span style=\"color: #00af00; text-decoration-color: #00af00\">128</span>)        │       <span style=\"color: #00af00; text-decoration-color: #00af00\">163,968</span> │\n",
       "├─────────────────────────────────┼────────────────────────┼───────────────┤\n",
       "│ max_pooling1d_26 (<span style=\"color: #0087ff; text-decoration-color: #0087ff\">MaxPooling1D</span>) │ (<span style=\"color: #00d7ff; text-decoration-color: #00d7ff\">None</span>, <span style=\"color: #00af00; text-decoration-color: #00af00\">21</span>, <span style=\"color: #00af00; text-decoration-color: #00af00\">128</span>)        │             <span style=\"color: #00af00; text-decoration-color: #00af00\">0</span> │\n",
       "├─────────────────────────────────┼────────────────────────┼───────────────┤\n",
       "│ dropout_12 (<span style=\"color: #0087ff; text-decoration-color: #0087ff\">Dropout</span>)            │ (<span style=\"color: #00d7ff; text-decoration-color: #00d7ff\">None</span>, <span style=\"color: #00af00; text-decoration-color: #00af00\">21</span>, <span style=\"color: #00af00; text-decoration-color: #00af00\">128</span>)        │             <span style=\"color: #00af00; text-decoration-color: #00af00\">0</span> │\n",
       "├─────────────────────────────────┼────────────────────────┼───────────────┤\n",
       "│ conv1d_27 (<span style=\"color: #0087ff; text-decoration-color: #0087ff\">Conv1D</span>)              │ (<span style=\"color: #00d7ff; text-decoration-color: #00d7ff\">None</span>, <span style=\"color: #00af00; text-decoration-color: #00af00\">21</span>, <span style=\"color: #00af00; text-decoration-color: #00af00\">64</span>)         │        <span style=\"color: #00af00; text-decoration-color: #00af00\">41,024</span> │\n",
       "├─────────────────────────────────┼────────────────────────┼───────────────┤\n",
       "│ max_pooling1d_27 (<span style=\"color: #0087ff; text-decoration-color: #0087ff\">MaxPooling1D</span>) │ (<span style=\"color: #00d7ff; text-decoration-color: #00d7ff\">None</span>, <span style=\"color: #00af00; text-decoration-color: #00af00\">11</span>, <span style=\"color: #00af00; text-decoration-color: #00af00\">64</span>)         │             <span style=\"color: #00af00; text-decoration-color: #00af00\">0</span> │\n",
       "├─────────────────────────────────┼────────────────────────┼───────────────┤\n",
       "│ flatten_6 (<span style=\"color: #0087ff; text-decoration-color: #0087ff\">Flatten</span>)             │ (<span style=\"color: #00d7ff; text-decoration-color: #00d7ff\">None</span>, <span style=\"color: #00af00; text-decoration-color: #00af00\">704</span>)            │             <span style=\"color: #00af00; text-decoration-color: #00af00\">0</span> │\n",
       "├─────────────────────────────────┼────────────────────────┼───────────────┤\n",
       "│ dense_12 (<span style=\"color: #0087ff; text-decoration-color: #0087ff\">Dense</span>)                │ (<span style=\"color: #00d7ff; text-decoration-color: #00d7ff\">None</span>, <span style=\"color: #00af00; text-decoration-color: #00af00\">32</span>)             │        <span style=\"color: #00af00; text-decoration-color: #00af00\">22,560</span> │\n",
       "├─────────────────────────────────┼────────────────────────┼───────────────┤\n",
       "│ dropout_13 (<span style=\"color: #0087ff; text-decoration-color: #0087ff\">Dropout</span>)            │ (<span style=\"color: #00d7ff; text-decoration-color: #00d7ff\">None</span>, <span style=\"color: #00af00; text-decoration-color: #00af00\">32</span>)             │             <span style=\"color: #00af00; text-decoration-color: #00af00\">0</span> │\n",
       "├─────────────────────────────────┼────────────────────────┼───────────────┤\n",
       "│ dense_13 (<span style=\"color: #0087ff; text-decoration-color: #0087ff\">Dense</span>)                │ (<span style=\"color: #00d7ff; text-decoration-color: #00d7ff\">None</span>, <span style=\"color: #00af00; text-decoration-color: #00af00\">8</span>)              │           <span style=\"color: #00af00; text-decoration-color: #00af00\">264</span> │\n",
       "└─────────────────────────────────┴────────────────────────┴───────────────┘\n",
       "</pre>\n"
      ],
      "text/plain": [
       "┏━━━━━━━━━━━━━━━━━━━━━━━━━━━━━━━━━┳━━━━━━━━━━━━━━━━━━━━━━━━┳━━━━━━━━━━━━━━━┓\n",
       "┃\u001b[1m \u001b[0m\u001b[1mLayer (type)                   \u001b[0m\u001b[1m \u001b[0m┃\u001b[1m \u001b[0m\u001b[1mOutput Shape          \u001b[0m\u001b[1m \u001b[0m┃\u001b[1m \u001b[0m\u001b[1m      Param #\u001b[0m\u001b[1m \u001b[0m┃\n",
       "┡━━━━━━━━━━━━━━━━━━━━━━━━━━━━━━━━━╇━━━━━━━━━━━━━━━━━━━━━━━━╇━━━━━━━━━━━━━━━┩\n",
       "│ conv1d_24 (\u001b[38;5;33mConv1D\u001b[0m)              │ (\u001b[38;5;45mNone\u001b[0m, \u001b[38;5;34m162\u001b[0m, \u001b[38;5;34m256\u001b[0m)       │         \u001b[38;5;34m1,536\u001b[0m │\n",
       "├─────────────────────────────────┼────────────────────────┼───────────────┤\n",
       "│ max_pooling1d_24 (\u001b[38;5;33mMaxPooling1D\u001b[0m) │ (\u001b[38;5;45mNone\u001b[0m, \u001b[38;5;34m81\u001b[0m, \u001b[38;5;34m256\u001b[0m)        │             \u001b[38;5;34m0\u001b[0m │\n",
       "├─────────────────────────────────┼────────────────────────┼───────────────┤\n",
       "│ conv1d_25 (\u001b[38;5;33mConv1D\u001b[0m)              │ (\u001b[38;5;45mNone\u001b[0m, \u001b[38;5;34m81\u001b[0m, \u001b[38;5;34m256\u001b[0m)        │       \u001b[38;5;34m327,936\u001b[0m │\n",
       "├─────────────────────────────────┼────────────────────────┼───────────────┤\n",
       "│ max_pooling1d_25 (\u001b[38;5;33mMaxPooling1D\u001b[0m) │ (\u001b[38;5;45mNone\u001b[0m, \u001b[38;5;34m41\u001b[0m, \u001b[38;5;34m256\u001b[0m)        │             \u001b[38;5;34m0\u001b[0m │\n",
       "├─────────────────────────────────┼────────────────────────┼───────────────┤\n",
       "│ conv1d_26 (\u001b[38;5;33mConv1D\u001b[0m)              │ (\u001b[38;5;45mNone\u001b[0m, \u001b[38;5;34m41\u001b[0m, \u001b[38;5;34m128\u001b[0m)        │       \u001b[38;5;34m163,968\u001b[0m │\n",
       "├─────────────────────────────────┼────────────────────────┼───────────────┤\n",
       "│ max_pooling1d_26 (\u001b[38;5;33mMaxPooling1D\u001b[0m) │ (\u001b[38;5;45mNone\u001b[0m, \u001b[38;5;34m21\u001b[0m, \u001b[38;5;34m128\u001b[0m)        │             \u001b[38;5;34m0\u001b[0m │\n",
       "├─────────────────────────────────┼────────────────────────┼───────────────┤\n",
       "│ dropout_12 (\u001b[38;5;33mDropout\u001b[0m)            │ (\u001b[38;5;45mNone\u001b[0m, \u001b[38;5;34m21\u001b[0m, \u001b[38;5;34m128\u001b[0m)        │             \u001b[38;5;34m0\u001b[0m │\n",
       "├─────────────────────────────────┼────────────────────────┼───────────────┤\n",
       "│ conv1d_27 (\u001b[38;5;33mConv1D\u001b[0m)              │ (\u001b[38;5;45mNone\u001b[0m, \u001b[38;5;34m21\u001b[0m, \u001b[38;5;34m64\u001b[0m)         │        \u001b[38;5;34m41,024\u001b[0m │\n",
       "├─────────────────────────────────┼────────────────────────┼───────────────┤\n",
       "│ max_pooling1d_27 (\u001b[38;5;33mMaxPooling1D\u001b[0m) │ (\u001b[38;5;45mNone\u001b[0m, \u001b[38;5;34m11\u001b[0m, \u001b[38;5;34m64\u001b[0m)         │             \u001b[38;5;34m0\u001b[0m │\n",
       "├─────────────────────────────────┼────────────────────────┼───────────────┤\n",
       "│ flatten_6 (\u001b[38;5;33mFlatten\u001b[0m)             │ (\u001b[38;5;45mNone\u001b[0m, \u001b[38;5;34m704\u001b[0m)            │             \u001b[38;5;34m0\u001b[0m │\n",
       "├─────────────────────────────────┼────────────────────────┼───────────────┤\n",
       "│ dense_12 (\u001b[38;5;33mDense\u001b[0m)                │ (\u001b[38;5;45mNone\u001b[0m, \u001b[38;5;34m32\u001b[0m)             │        \u001b[38;5;34m22,560\u001b[0m │\n",
       "├─────────────────────────────────┼────────────────────────┼───────────────┤\n",
       "│ dropout_13 (\u001b[38;5;33mDropout\u001b[0m)            │ (\u001b[38;5;45mNone\u001b[0m, \u001b[38;5;34m32\u001b[0m)             │             \u001b[38;5;34m0\u001b[0m │\n",
       "├─────────────────────────────────┼────────────────────────┼───────────────┤\n",
       "│ dense_13 (\u001b[38;5;33mDense\u001b[0m)                │ (\u001b[38;5;45mNone\u001b[0m, \u001b[38;5;34m8\u001b[0m)              │           \u001b[38;5;34m264\u001b[0m │\n",
       "└─────────────────────────────────┴────────────────────────┴───────────────┘\n"
      ]
     },
     "metadata": {},
     "output_type": "display_data"
    },
    {
     "data": {
      "text/html": [
       "<pre style=\"white-space:pre;overflow-x:auto;line-height:normal;font-family:Menlo,'DejaVu Sans Mono',consolas,'Courier New',monospace\"><span style=\"font-weight: bold\"> Total params: </span><span style=\"color: #00af00; text-decoration-color: #00af00\">557,288</span> (2.13 MB)\n",
       "</pre>\n"
      ],
      "text/plain": [
       "\u001b[1m Total params: \u001b[0m\u001b[38;5;34m557,288\u001b[0m (2.13 MB)\n"
      ]
     },
     "metadata": {},
     "output_type": "display_data"
    },
    {
     "data": {
      "text/html": [
       "<pre style=\"white-space:pre;overflow-x:auto;line-height:normal;font-family:Menlo,'DejaVu Sans Mono',consolas,'Courier New',monospace\"><span style=\"font-weight: bold\"> Trainable params: </span><span style=\"color: #00af00; text-decoration-color: #00af00\">557,288</span> (2.13 MB)\n",
       "</pre>\n"
      ],
      "text/plain": [
       "\u001b[1m Trainable params: \u001b[0m\u001b[38;5;34m557,288\u001b[0m (2.13 MB)\n"
      ]
     },
     "metadata": {},
     "output_type": "display_data"
    },
    {
     "data": {
      "text/html": [
       "<pre style=\"white-space:pre;overflow-x:auto;line-height:normal;font-family:Menlo,'DejaVu Sans Mono',consolas,'Courier New',monospace\"><span style=\"font-weight: bold\"> Non-trainable params: </span><span style=\"color: #00af00; text-decoration-color: #00af00\">0</span> (0.00 B)\n",
       "</pre>\n"
      ],
      "text/plain": [
       "\u001b[1m Non-trainable params: \u001b[0m\u001b[38;5;34m0\u001b[0m (0.00 B)\n"
      ]
     },
     "metadata": {},
     "output_type": "display_data"
    }
   ],
   "source": [
    "# Dica: você pode olhar a documentação e ir seguindo o passo a passo arquitetônico para criar o modelo.\n",
    "\n",
    "# Passo 1: Use Sequential() para criar o modelo como um contêiner linear.\n",
    "# Passo 2: Adicione uma camada Conv1D com 256 filtros, kernel_size=5, strides=1, padding='same' e função de ativação 'relu'.\n",
    "# Passo 3: Siga com uma camada MaxPooling1D com pool_size=5, strides=2, padding='same'.\n",
    "# Passo 4: Adicione mais uma camada Conv1D com 256 filtros, kernel_size=5, strides=1, padding='same' e função de ativação 'relu'.\n",
    "# Passo 5: Adicione mais uma camada MaxPooling1D com pool_size=5, strides=2, padding='same'.\n",
    "# Passo 6: Adicione mais uma camada Conv1D com 128 filtros, kernel_size=5, strides=1, padding='same' e função de ativação 'relu'.\n",
    "# Passo 7: Adicione mais uma camada MaxPooling1D com pool_size=5, strides=2, padding='same'.\n",
    "# Passo 8: Adicione uma camada Dropout com 0.2 de taxa de dropout.\n",
    "# Passo 9: Adicione mais uma camada Conv1D com 64 filtros, kernel_size=5, strides=1, padding='same' e função de ativação 'relu'.\n",
    "# Passo 10: Adicione mais uma camada MaxPooling1D com pool_size=5, strides=2, padding='same'.\n",
    "# Passo 11: Adicione uma camada Flatten.\n",
    "# Passo 12: Adicione uma camada Dense com 32 unidades e função de ativação 'relu'.\n",
    "# Passo 13: Adicione uma camada Dropout com 0.3 de taxa de dropout.\n",
    "# Passo 14: Adicione uma camada Dense com 8 unidades e função de ativação 'softmax'.\n",
    "# Passo 15: Compile o modelo com otimizador 'adam', loss 'categorical_crossentropy' e métrica 'accuracy'.\n",
    "# Passo 16: Use model.summary() para visualizar o modelo.\n",
    "\n",
    "# Code here\n",
    "\n",
    "modelo = keras.Sequential([ #passo 01\n",
    " (keras.layers.Conv1D(filters=256, kernel_size=5, strides=1, padding='same', activation='relu', input_shape=(162,1))) #passo 02\n",
    ",(keras.layers.MaxPooling1D(pool_size=5, strides=2, padding='same')) #passo 03\n",
    ",(keras.layers.Conv1D(filters=256, kernel_size=5, strides=1, padding='same', activation='relu')) #passo 04\n",
    ",(keras.layers.MaxPooling1D(pool_size=5, strides=2, padding='same')) #passo 05\n",
    ",(keras.layers.Conv1D(filters=128, kernel_size=5, strides=1, padding='same', activation='relu')) #passo 06\n",
    ",(keras.layers.MaxPooling1D(pool_size=5, strides=2, padding='same')) #passo 07\n",
    ",(keras.layers.Dropout(rate=0.2)) #passo 08\n",
    ",(keras.layers.Conv1D(filters=64, kernel_size=5, strides=1, padding='same', activation='relu')) #passo 09\n",
    ",(keras.layers.MaxPooling1D(pool_size=5, strides=2, padding='same')) #passo 10\n",
    ",(keras.layers.Flatten()) #passo 11\n",
    ",(keras.layers.Dense(units=32, activation='relu')) #passo 12\n",
    ",(keras.layers.Dropout(rate=0.3)) #passo 13\n",
    ",(keras.layers.Dense(units=8, activation='softmax'))]) #passo 14\n",
    "\n",
    "modelo.compile(optimizer='adam', loss='categorical_crossentropy', metrics=['accuracy']) #passo 15\n",
    "modelo.summary() #passo 16\n",
    "\n"
   ]
  },
  {
   "cell_type": "markdown",
   "metadata": {},
   "source": [
    "### 3.1. Agora vamos de fato treinar o modelo, siga esses passos: \n",
    "##### 1. Use o callback para Ajustar a Taxa de Aprendizado \n",
    "##### ReduceLROnPlateau: Diminui a taxa de aprendizado quando uma métrica está estagnada.\n",
    "   Parâmetros:\n",
    "   - monitor='loss': Monitora a perda durante o treinamento.\n",
    "   - factor=0.4: Reduz a taxa de aprendizado por este fator.\n",
    "   - patience=2: Número de épocas sem melhora antes da redução.\n",
    "   - min_lr=0.0000001: Limite mínimo para a taxa de aprendizado.\n",
    "             \n",
    "##### 2. Treine o Modelo \n",
    "##### Utilize model.fit para iniciar o treino da rede neural.\n",
    "   Parâmetros:\n",
    "   - x_train, y_train: Conjunto de dados de treino.\n",
    "   - batch_size=64: Número de amostras por atualização de gradiente.\n",
    "   - epochs=50: Número de vezes que o modelo treina em todo o conjunto de dados.\n",
    "   - validation_data=(x_test, y_test): Conjunto de dados para validação durante o treino.\n",
    "   - callbacks=[rlrp]: Lista de callbacks a serem aplicados durante o treino.\n",
    "     "
   ]
  },
  {
   "cell_type": "code",
   "execution_count": 164,
   "metadata": {},
   "outputs": [
    {
     "data": {
      "text/plain": [
       "(array([[-0.86826667],\n",
       "        [-1.26375669],\n",
       "        [-1.68970984],\n",
       "        [-2.09673039],\n",
       "        [-1.38441928],\n",
       "        [-1.82040475],\n",
       "        [-2.22198575],\n",
       "        [-2.17013961],\n",
       "        [-1.84053668],\n",
       "        [ 0.25414886],\n",
       "        [ 1.02724172],\n",
       "        [-0.87192988],\n",
       "        [-0.7939738 ],\n",
       "        [-0.74425848],\n",
       "        [ 1.00866247],\n",
       "        [-0.56922565],\n",
       "        [ 0.16980834],\n",
       "        [-0.69292046],\n",
       "        [ 0.1594383 ],\n",
       "        [ 0.05838495],\n",
       "        [-0.5541143 ],\n",
       "        [ 0.10082587],\n",
       "        [-0.3412689 ],\n",
       "        [-0.20626262],\n",
       "        [-0.59806282],\n",
       "        [-0.6933082 ],\n",
       "        [ 1.03395477],\n",
       "        [-1.17621077],\n",
       "        [-0.27710062],\n",
       "        [-0.67811947],\n",
       "        [-0.35426766],\n",
       "        [-1.1355734 ],\n",
       "        [-0.49166084],\n",
       "        [-0.48704061],\n",
       "        [-0.12186767],\n",
       "        [-0.10282943],\n",
       "        [-0.2378991 ],\n",
       "        [-0.34731649],\n",
       "        [-0.36746394],\n",
       "        [-0.33695049],\n",
       "        [-0.32199747],\n",
       "        [-0.11203822],\n",
       "        [-0.17755461],\n",
       "        [-0.26626613],\n",
       "        [-0.24894677],\n",
       "        [-0.21934771],\n",
       "        [-0.27323511],\n",
       "        [-0.21728749],\n",
       "        [-0.16724999],\n",
       "        [-0.14423394],\n",
       "        [-0.15599139],\n",
       "        [-0.11666207],\n",
       "        [-0.13164591],\n",
       "        [-0.24611071],\n",
       "        [-0.24049923],\n",
       "        [-0.26323592],\n",
       "        [-0.24592444],\n",
       "        [-0.21018405],\n",
       "        [-0.16773984],\n",
       "        [-0.19332265],\n",
       "        [-0.14194618],\n",
       "        [-0.13057511],\n",
       "        [-0.11880823],\n",
       "        [-0.1060791 ],\n",
       "        [-0.16614288],\n",
       "        [-0.20301022],\n",
       "        [-0.19271822],\n",
       "        [-0.17708551],\n",
       "        [-0.17897304],\n",
       "        [-0.14368936],\n",
       "        [-0.12619612],\n",
       "        [-0.13909346],\n",
       "        [-0.13613742],\n",
       "        [-0.14922826],\n",
       "        [-0.1241813 ],\n",
       "        [-0.10542208],\n",
       "        [-0.16406877],\n",
       "        [-0.16040756],\n",
       "        [-0.12352443],\n",
       "        [-0.1653193 ],\n",
       "        [-0.17259853],\n",
       "        [-0.19110768],\n",
       "        [-0.18823631],\n",
       "        [-0.18647149],\n",
       "        [-0.1540933 ],\n",
       "        [-0.20729619],\n",
       "        [-0.20397037],\n",
       "        [-0.18501703],\n",
       "        [-0.18183345],\n",
       "        [-0.21462688],\n",
       "        [-0.11842661],\n",
       "        [-0.07417909],\n",
       "        [-0.1893594 ],\n",
       "        [-0.19995998],\n",
       "        [-0.18598238],\n",
       "        [-0.16035928],\n",
       "        [-0.15517521],\n",
       "        [-0.15829469],\n",
       "        [-0.24255503],\n",
       "        [-0.20032064],\n",
       "        [-0.1635425 ],\n",
       "        [-0.1382558 ],\n",
       "        [-0.16024419],\n",
       "        [-0.2132334 ],\n",
       "        [-0.20961691],\n",
       "        [-0.17674142],\n",
       "        [-0.12879846],\n",
       "        [-0.18799056],\n",
       "        [-0.18414822],\n",
       "        [-0.18307151],\n",
       "        [-0.19825294],\n",
       "        [-0.17849982],\n",
       "        [-0.18025722],\n",
       "        [-0.17922106],\n",
       "        [-0.1406723 ],\n",
       "        [-0.17176017],\n",
       "        [-0.19096577],\n",
       "        [-0.09689441],\n",
       "        [-0.16973084],\n",
       "        [-0.1874824 ],\n",
       "        [-0.1874164 ],\n",
       "        [-0.1662252 ],\n",
       "        [-0.18491398],\n",
       "        [-0.20363768],\n",
       "        [-0.20175745],\n",
       "        [-0.2273604 ],\n",
       "        [-0.23068998],\n",
       "        [-0.22521875],\n",
       "        [-0.1978295 ],\n",
       "        [-0.23110784],\n",
       "        [-0.21168254],\n",
       "        [-0.18936587],\n",
       "        [-0.18517486],\n",
       "        [-0.18686259],\n",
       "        [-0.20322194],\n",
       "        [-0.20678843],\n",
       "        [-0.20117127],\n",
       "        [-0.21810049],\n",
       "        [-0.16031383],\n",
       "        [-0.17131243],\n",
       "        [-0.23331881],\n",
       "        [-0.25848316],\n",
       "        [-0.27490991],\n",
       "        [-0.27636803],\n",
       "        [-0.33601933],\n",
       "        [-0.31931039],\n",
       "        [-0.30859122],\n",
       "        [-0.36111895],\n",
       "        [-0.31982035],\n",
       "        [-0.31985779],\n",
       "        [-0.32804654],\n",
       "        [-0.3328334 ],\n",
       "        [-0.33677516],\n",
       "        [-0.33061374],\n",
       "        [-0.32689054],\n",
       "        [-0.32133342],\n",
       "        [-0.30515296],\n",
       "        [-0.31293803],\n",
       "        [-0.32178357],\n",
       "        [-0.33374563],\n",
       "        [-0.33257454],\n",
       "        [-0.25755934]]),\n",
       " array([0., 0., 0., 0., 0., 0., 1., 0.]),\n",
       " array(['angry'], dtype=object),\n",
       " array([[-2.17919986e-01],\n",
       "        [-4.72776043e-01],\n",
       "        [ 6.29140304e-02],\n",
       "        [-6.28772004e-01],\n",
       "        [ 4.27295926e-01],\n",
       "        [-6.51779317e-01],\n",
       "        [-9.67694409e-01],\n",
       "        [-6.31681191e-01],\n",
       "        [-9.81561427e-01],\n",
       "        [-1.58270286e+00],\n",
       "        [-1.49249332e+00],\n",
       "        [-5.70755469e-01],\n",
       "        [-3.25120628e-01],\n",
       "        [ 1.50216562e+00],\n",
       "        [-5.13798818e-01],\n",
       "        [-1.35270360e+00],\n",
       "        [ 8.14034579e-01],\n",
       "        [-9.93524393e-01],\n",
       "        [-1.33614784e-01],\n",
       "        [-1.26461253e+00],\n",
       "        [-9.87389562e-01],\n",
       "        [-4.40852684e-02],\n",
       "        [-8.42546256e-01],\n",
       "        [-8.46975345e-01],\n",
       "        [ 1.67801176e-01],\n",
       "        [-5.11865529e-01],\n",
       "        [-7.71074467e-01],\n",
       "        [-6.96454104e-01],\n",
       "        [ 5.81773708e-01],\n",
       "        [-8.84553556e-01],\n",
       "        [ 7.54176170e-01],\n",
       "        [ 5.99776895e-01],\n",
       "        [ 8.20443813e-01],\n",
       "        [ 1.33725790e+00],\n",
       "        [ 1.99562089e-01],\n",
       "        [ 2.88483215e-01],\n",
       "        [ 2.09811084e-02],\n",
       "        [-2.07288993e-01],\n",
       "        [-2.93995197e-01],\n",
       "        [-2.78917155e-01],\n",
       "        [-3.02607749e-01],\n",
       "        [-2.55345878e-01],\n",
       "        [-7.31071160e-02],\n",
       "        [ 1.34557348e-01],\n",
       "        [ 2.32565556e-01],\n",
       "        [ 2.11407193e+00],\n",
       "        [ 1.33491646e+00],\n",
       "        [ 1.52010949e+00],\n",
       "        [ 1.71934590e-01],\n",
       "        [-9.32592212e-02],\n",
       "        [-1.15779147e-01],\n",
       "        [-1.15173552e-01],\n",
       "        [-1.69725738e-01],\n",
       "        [ 2.62325062e-02],\n",
       "        [-1.66622786e-01],\n",
       "        [-1.89291997e-01],\n",
       "        [-3.57767771e-02],\n",
       "        [ 2.89631940e-01],\n",
       "        [-1.12409904e-01],\n",
       "        [ 4.12701182e-01],\n",
       "        [ 3.64484479e-01],\n",
       "        [ 2.61004231e-02],\n",
       "        [ 1.13983364e+00],\n",
       "        [ 9.00463298e-01],\n",
       "        [ 5.86793171e-02],\n",
       "        [ 1.14961529e-01],\n",
       "        [ 2.31936698e-03],\n",
       "        [ 1.93739768e-01],\n",
       "        [ 1.04379154e-01],\n",
       "        [ 2.15040872e-01],\n",
       "        [-3.79839915e-02],\n",
       "        [ 1.94665962e-01],\n",
       "        [ 7.81868804e-02],\n",
       "        [ 1.06626596e-01],\n",
       "        [ 1.97081317e-01],\n",
       "        [ 1.59938961e+00],\n",
       "        [ 2.57431552e+00],\n",
       "        [ 4.06977967e-01],\n",
       "        [ 3.51099530e-01],\n",
       "        [ 9.43284508e-01],\n",
       "        [ 3.38418203e-01],\n",
       "        [ 1.10799759e+00],\n",
       "        [ 4.77159241e-01],\n",
       "        [ 1.07700501e-01],\n",
       "        [ 1.09823878e-01],\n",
       "        [ 5.67498882e-01],\n",
       "        [ 3.43733056e+00],\n",
       "        [ 6.96200730e-01],\n",
       "        [ 8.56041437e-01],\n",
       "        [ 5.11138715e-01],\n",
       "        [ 1.24980102e-01],\n",
       "        [ 2.77673297e-01],\n",
       "        [ 7.27322535e-02],\n",
       "        [ 5.33927476e-01],\n",
       "        [ 3.54699144e-01],\n",
       "        [ 1.82493839e+00],\n",
       "        [ 2.55692001e-01],\n",
       "        [ 1.09554612e+00],\n",
       "        [ 5.04711732e-01],\n",
       "        [ 5.59863806e-02],\n",
       "        [ 2.14263651e-01],\n",
       "        [ 1.34775210e+00],\n",
       "        [ 6.80864909e-01],\n",
       "        [ 5.71228743e-01],\n",
       "        [ 3.50761373e-01],\n",
       "        [ 7.11228489e-01],\n",
       "        [ 1.13948731e+00],\n",
       "        [ 4.53097451e-01],\n",
       "        [ 2.95967518e-01],\n",
       "        [ 1.05489441e-01],\n",
       "        [ 2.70749134e-01],\n",
       "        [ 1.64211861e-02],\n",
       "        [-1.87317123e-02],\n",
       "        [-4.53056968e-02],\n",
       "        [ 1.14467882e-01],\n",
       "        [ 1.12696908e-01],\n",
       "        [ 1.37690799e-01],\n",
       "        [ 2.98130052e-01],\n",
       "        [ 2.09041828e-01],\n",
       "        [ 9.75622589e-02],\n",
       "        [ 2.62679200e-01],\n",
       "        [ 7.33032516e-01],\n",
       "        [ 8.93073749e-01],\n",
       "        [ 8.63932505e-01],\n",
       "        [ 9.48069163e-01],\n",
       "        [ 1.56045283e+00],\n",
       "        [ 8.61817535e-01],\n",
       "        [ 7.57007062e-01],\n",
       "        [ 8.92814720e-01],\n",
       "        [ 4.07950723e-01],\n",
       "        [ 4.51260769e-01],\n",
       "        [ 4.24213691e-01],\n",
       "        [ 1.33541831e-01],\n",
       "        [ 6.69831901e-01],\n",
       "        [ 6.01507802e-01],\n",
       "        [ 4.67365523e-01],\n",
       "        [ 7.23837783e-01],\n",
       "        [ 6.95794786e-01],\n",
       "        [ 2.42952593e-01],\n",
       "        [ 1.98377397e-01],\n",
       "        [ 9.76488534e-02],\n",
       "        [ 1.17588492e-01],\n",
       "        [ 2.16464822e-01],\n",
       "        [ 2.72430720e-01],\n",
       "        [ 2.55632085e-01],\n",
       "        [ 4.38794503e-01],\n",
       "        [ 8.02809797e-01],\n",
       "        [ 3.87877401e-01],\n",
       "        [ 2.17278011e-01],\n",
       "        [ 2.40985093e-01],\n",
       "        [ 1.95770077e-01],\n",
       "        [ 1.78283770e-01],\n",
       "        [ 4.04091056e-01],\n",
       "        [ 4.03422800e-01],\n",
       "        [ 3.60817253e-01],\n",
       "        [ 2.16417119e-01],\n",
       "        [ 8.99250269e-02],\n",
       "        [ 1.94307387e-01],\n",
       "        [ 1.48612251e-01],\n",
       "        [ 4.17506454e-03],\n",
       "        [ 3.41868223e-02],\n",
       "        [-1.47330915e-01]]))"
      ]
     },
     "execution_count": 164,
     "metadata": {},
     "output_type": "execute_result"
    }
   ],
   "source": [
    "x_train[0], y_train[0], y_test[0], x_test[0]"
   ]
  },
  {
   "cell_type": "code",
   "execution_count": 151,
   "metadata": {},
   "outputs": [
    {
     "name": "stdout",
     "output_type": "stream",
     "text": [
      "Epoch 1/50\n"
     ]
    },
    {
     "name": "stdout",
     "output_type": "stream",
     "text": [
      "\u001b[1m58/58\u001b[0m \u001b[32m━━━━━━━━━━━━━━━━━━━━\u001b[0m\u001b[37m\u001b[0m \u001b[1m9s\u001b[0m 105ms/step - accuracy: 0.2063 - loss: 1.9941 - val_accuracy: 0.2361 - val_loss: 1.9119 - learning_rate: 0.0010\n",
      "Epoch 2/50\n",
      "\u001b[1m58/58\u001b[0m \u001b[32m━━━━━━━━━━━━━━━━━━━━\u001b[0m\u001b[37m\u001b[0m \u001b[1m6s\u001b[0m 98ms/step - accuracy: 0.2336 - loss: 1.9253 - val_accuracy: 0.2392 - val_loss: 1.8588 - learning_rate: 0.0010\n",
      "Epoch 3/50\n",
      "\u001b[1m58/58\u001b[0m \u001b[32m━━━━━━━━━━━━━━━━━━━━\u001b[0m\u001b[37m\u001b[0m \u001b[1m6s\u001b[0m 107ms/step - accuracy: 0.2662 - loss: 1.8774 - val_accuracy: 0.2623 - val_loss: 1.7977 - learning_rate: 0.0010\n",
      "Epoch 4/50\n",
      "\u001b[1m58/58\u001b[0m \u001b[32m━━━━━━━━━━━━━━━━━━━━\u001b[0m\u001b[37m\u001b[0m \u001b[1m6s\u001b[0m 104ms/step - accuracy: 0.2918 - loss: 1.7830 - val_accuracy: 0.3164 - val_loss: 1.7438 - learning_rate: 0.0010\n",
      "Epoch 5/50\n",
      "\u001b[1m58/58\u001b[0m \u001b[32m━━━━━━━━━━━━━━━━━━━━\u001b[0m\u001b[37m\u001b[0m \u001b[1m5s\u001b[0m 94ms/step - accuracy: 0.3252 - loss: 1.7441 - val_accuracy: 0.3025 - val_loss: 1.7151 - learning_rate: 0.0010\n",
      "Epoch 6/50\n",
      "\u001b[1m58/58\u001b[0m \u001b[32m━━━━━━━━━━━━━━━━━━━━\u001b[0m\u001b[37m\u001b[0m \u001b[1m6s\u001b[0m 96ms/step - accuracy: 0.3400 - loss: 1.7094 - val_accuracy: 0.3133 - val_loss: 1.7214 - learning_rate: 0.0010\n",
      "Epoch 7/50\n",
      "\u001b[1m58/58\u001b[0m \u001b[32m━━━━━━━━━━━━━━━━━━━━\u001b[0m\u001b[37m\u001b[0m \u001b[1m6s\u001b[0m 94ms/step - accuracy: 0.3798 - loss: 1.6326 - val_accuracy: 0.3148 - val_loss: 1.7013 - learning_rate: 0.0010\n",
      "Epoch 8/50\n",
      "\u001b[1m58/58\u001b[0m \u001b[32m━━━━━━━━━━━━━━━━━━━━\u001b[0m\u001b[37m\u001b[0m \u001b[1m6s\u001b[0m 104ms/step - accuracy: 0.3676 - loss: 1.6253 - val_accuracy: 0.3503 - val_loss: 1.6101 - learning_rate: 0.0010\n",
      "Epoch 9/50\n",
      "\u001b[1m58/58\u001b[0m \u001b[32m━━━━━━━━━━━━━━━━━━━━\u001b[0m\u001b[37m\u001b[0m \u001b[1m6s\u001b[0m 97ms/step - accuracy: 0.3806 - loss: 1.5957 - val_accuracy: 0.3765 - val_loss: 1.6029 - learning_rate: 0.0010\n",
      "Epoch 10/50\n",
      "\u001b[1m58/58\u001b[0m \u001b[32m━━━━━━━━━━━━━━━━━━━━\u001b[0m\u001b[37m\u001b[0m \u001b[1m5s\u001b[0m 93ms/step - accuracy: 0.4052 - loss: 1.5825 - val_accuracy: 0.3565 - val_loss: 1.6801 - learning_rate: 0.0010\n",
      "Epoch 11/50\n",
      "\u001b[1m58/58\u001b[0m \u001b[32m━━━━━━━━━━━━━━━━━━━━\u001b[0m\u001b[37m\u001b[0m \u001b[1m5s\u001b[0m 91ms/step - accuracy: 0.4509 - loss: 1.4707 - val_accuracy: 0.3827 - val_loss: 1.5591 - learning_rate: 0.0010\n",
      "Epoch 12/50\n",
      "\u001b[1m58/58\u001b[0m \u001b[32m━━━━━━━━━━━━━━━━━━━━\u001b[0m\u001b[37m\u001b[0m \u001b[1m5s\u001b[0m 92ms/step - accuracy: 0.4594 - loss: 1.4547 - val_accuracy: 0.3657 - val_loss: 1.5989 - learning_rate: 0.0010\n",
      "Epoch 13/50\n",
      "\u001b[1m58/58\u001b[0m \u001b[32m━━━━━━━━━━━━━━━━━━━━\u001b[0m\u001b[37m\u001b[0m \u001b[1m5s\u001b[0m 93ms/step - accuracy: 0.4499 - loss: 1.4538 - val_accuracy: 0.3827 - val_loss: 1.6363 - learning_rate: 0.0010\n",
      "Epoch 14/50\n",
      "\u001b[1m58/58\u001b[0m \u001b[32m━━━━━━━━━━━━━━━━━━━━\u001b[0m\u001b[37m\u001b[0m \u001b[1m5s\u001b[0m 92ms/step - accuracy: 0.4878 - loss: 1.3545 - val_accuracy: 0.4182 - val_loss: 1.5072 - learning_rate: 0.0010\n",
      "Epoch 15/50\n",
      "\u001b[1m58/58\u001b[0m \u001b[32m━━━━━━━━━━━━━━━━━━━━\u001b[0m\u001b[37m\u001b[0m \u001b[1m6s\u001b[0m 96ms/step - accuracy: 0.5116 - loss: 1.3395 - val_accuracy: 0.4028 - val_loss: 1.5543 - learning_rate: 0.0010\n",
      "Epoch 16/50\n",
      "\u001b[1m58/58\u001b[0m \u001b[32m━━━━━━━━━━━━━━━━━━━━\u001b[0m\u001b[37m\u001b[0m \u001b[1m6s\u001b[0m 104ms/step - accuracy: 0.5099 - loss: 1.2905 - val_accuracy: 0.4244 - val_loss: 1.4968 - learning_rate: 0.0010\n",
      "Epoch 17/50\n",
      "\u001b[1m58/58\u001b[0m \u001b[32m━━━━━━━━━━━━━━━━━━━━\u001b[0m\u001b[37m\u001b[0m \u001b[1m6s\u001b[0m 94ms/step - accuracy: 0.5199 - loss: 1.2914 - val_accuracy: 0.4213 - val_loss: 1.4802 - learning_rate: 0.0010\n",
      "Epoch 18/50\n",
      "\u001b[1m58/58\u001b[0m \u001b[32m━━━━━━━━━━━━━━━━━━━━\u001b[0m\u001b[37m\u001b[0m \u001b[1m6s\u001b[0m 94ms/step - accuracy: 0.5301 - loss: 1.2351 - val_accuracy: 0.4414 - val_loss: 1.4785 - learning_rate: 0.0010\n",
      "Epoch 19/50\n",
      "\u001b[1m58/58\u001b[0m \u001b[32m━━━━━━━━━━━━━━━━━━━━\u001b[0m\u001b[37m\u001b[0m \u001b[1m5s\u001b[0m 93ms/step - accuracy: 0.5532 - loss: 1.1650 - val_accuracy: 0.4213 - val_loss: 1.5404 - learning_rate: 0.0010\n",
      "Epoch 20/50\n",
      "\u001b[1m58/58\u001b[0m \u001b[32m━━━━━━━━━━━━━━━━━━━━\u001b[0m\u001b[37m\u001b[0m \u001b[1m5s\u001b[0m 91ms/step - accuracy: 0.5785 - loss: 1.1334 - val_accuracy: 0.4506 - val_loss: 1.4754 - learning_rate: 0.0010\n",
      "Epoch 21/50\n",
      "\u001b[1m58/58\u001b[0m \u001b[32m━━━━━━━━━━━━━━━━━━━━\u001b[0m\u001b[37m\u001b[0m \u001b[1m6s\u001b[0m 94ms/step - accuracy: 0.5806 - loss: 1.1231 - val_accuracy: 0.4552 - val_loss: 1.4723 - learning_rate: 0.0010\n",
      "Epoch 22/50\n",
      "\u001b[1m58/58\u001b[0m \u001b[32m━━━━━━━━━━━━━━━━━━━━\u001b[0m\u001b[37m\u001b[0m \u001b[1m6s\u001b[0m 99ms/step - accuracy: 0.5991 - loss: 1.0891 - val_accuracy: 0.4475 - val_loss: 1.4442 - learning_rate: 0.0010\n",
      "Epoch 23/50\n",
      "\u001b[1m58/58\u001b[0m \u001b[32m━━━━━━━━━━━━━━━━━━━━\u001b[0m\u001b[37m\u001b[0m \u001b[1m6s\u001b[0m 101ms/step - accuracy: 0.6413 - loss: 0.9835 - val_accuracy: 0.4645 - val_loss: 1.4603 - learning_rate: 0.0010\n",
      "Epoch 24/50\n",
      "\u001b[1m58/58\u001b[0m \u001b[32m━━━━━━━━━━━━━━━━━━━━\u001b[0m\u001b[37m\u001b[0m \u001b[1m5s\u001b[0m 93ms/step - accuracy: 0.6375 - loss: 0.9955 - val_accuracy: 0.4769 - val_loss: 1.4320 - learning_rate: 0.0010\n",
      "Epoch 25/50\n",
      "\u001b[1m58/58\u001b[0m \u001b[32m━━━━━━━━━━━━━━━━━━━━\u001b[0m\u001b[37m\u001b[0m \u001b[1m6s\u001b[0m 94ms/step - accuracy: 0.6455 - loss: 0.9397 - val_accuracy: 0.4969 - val_loss: 1.4285 - learning_rate: 0.0010\n",
      "Epoch 26/50\n",
      "\u001b[1m58/58\u001b[0m \u001b[32m━━━━━━━━━━━━━━━━━━━━\u001b[0m\u001b[37m\u001b[0m \u001b[1m5s\u001b[0m 93ms/step - accuracy: 0.6816 - loss: 0.8922 - val_accuracy: 0.4877 - val_loss: 1.4133 - learning_rate: 0.0010\n",
      "Epoch 27/50\n",
      "\u001b[1m58/58\u001b[0m \u001b[32m━━━━━━━━━━━━━━━━━━━━\u001b[0m\u001b[37m\u001b[0m \u001b[1m5s\u001b[0m 92ms/step - accuracy: 0.6672 - loss: 0.8811 - val_accuracy: 0.5046 - val_loss: 1.4608 - learning_rate: 0.0010\n",
      "Epoch 28/50\n",
      "\u001b[1m58/58\u001b[0m \u001b[32m━━━━━━━━━━━━━━━━━━━━\u001b[0m\u001b[37m\u001b[0m \u001b[1m5s\u001b[0m 92ms/step - accuracy: 0.6670 - loss: 0.8828 - val_accuracy: 0.4969 - val_loss: 1.4323 - learning_rate: 0.0010\n",
      "Epoch 29/50\n",
      "\u001b[1m58/58\u001b[0m \u001b[32m━━━━━━━━━━━━━━━━━━━━\u001b[0m\u001b[37m\u001b[0m \u001b[1m5s\u001b[0m 87ms/step - accuracy: 0.6932 - loss: 0.8073 - val_accuracy: 0.4907 - val_loss: 1.4529 - learning_rate: 0.0010\n",
      "Epoch 30/50\n",
      "\u001b[1m58/58\u001b[0m \u001b[32m━━━━━━━━━━━━━━━━━━━━\u001b[0m\u001b[37m\u001b[0m \u001b[1m5s\u001b[0m 88ms/step - accuracy: 0.7121 - loss: 0.7416 - val_accuracy: 0.5247 - val_loss: 1.4007 - learning_rate: 0.0010\n",
      "Epoch 31/50\n",
      "\u001b[1m58/58\u001b[0m \u001b[32m━━━━━━━━━━━━━━━━━━━━\u001b[0m\u001b[37m\u001b[0m \u001b[1m5s\u001b[0m 88ms/step - accuracy: 0.7169 - loss: 0.7662 - val_accuracy: 0.5262 - val_loss: 1.4184 - learning_rate: 0.0010\n",
      "Epoch 32/50\n",
      "\u001b[1m58/58\u001b[0m \u001b[32m━━━━━━━━━━━━━━━━━━━━\u001b[0m\u001b[37m\u001b[0m \u001b[1m5s\u001b[0m 86ms/step - accuracy: 0.7327 - loss: 0.7254 - val_accuracy: 0.5000 - val_loss: 1.4408 - learning_rate: 0.0010\n",
      "Epoch 33/50\n",
      "\u001b[1m58/58\u001b[0m \u001b[32m━━━━━━━━━━━━━━━━━━━━\u001b[0m\u001b[37m\u001b[0m \u001b[1m5s\u001b[0m 87ms/step - accuracy: 0.7333 - loss: 0.7345 - val_accuracy: 0.5370 - val_loss: 1.6027 - learning_rate: 0.0010\n",
      "Epoch 34/50\n",
      "\u001b[1m58/58\u001b[0m \u001b[32m━━━━━━━━━━━━━━━━━━━━\u001b[0m\u001b[37m\u001b[0m \u001b[1m5s\u001b[0m 87ms/step - accuracy: 0.7653 - loss: 0.6326 - val_accuracy: 0.5478 - val_loss: 1.4138 - learning_rate: 0.0010\n",
      "Epoch 35/50\n",
      "\u001b[1m58/58\u001b[0m \u001b[32m━━━━━━━━━━━━━━━━━━━━\u001b[0m\u001b[37m\u001b[0m \u001b[1m6s\u001b[0m 95ms/step - accuracy: 0.7829 - loss: 0.5948 - val_accuracy: 0.5309 - val_loss: 1.5287 - learning_rate: 0.0010\n",
      "Epoch 36/50\n",
      "\u001b[1m58/58\u001b[0m \u001b[32m━━━━━━━━━━━━━━━━━━━━\u001b[0m\u001b[37m\u001b[0m \u001b[1m6s\u001b[0m 101ms/step - accuracy: 0.7973 - loss: 0.5720 - val_accuracy: 0.5340 - val_loss: 1.6064 - learning_rate: 0.0010\n",
      "Epoch 37/50\n",
      "\u001b[1m58/58\u001b[0m \u001b[32m━━━━━━━━━━━━━━━━━━━━\u001b[0m\u001b[37m\u001b[0m \u001b[1m5s\u001b[0m 85ms/step - accuracy: 0.8099 - loss: 0.5273 - val_accuracy: 0.5247 - val_loss: 1.8213 - learning_rate: 0.0010\n",
      "Epoch 38/50\n",
      "\u001b[1m58/58\u001b[0m \u001b[32m━━━━━━━━━━━━━━━━━━━━\u001b[0m\u001b[37m\u001b[0m \u001b[1m6s\u001b[0m 102ms/step - accuracy: 0.8152 - loss: 0.5163 - val_accuracy: 0.5231 - val_loss: 1.7856 - learning_rate: 0.0010\n",
      "Epoch 39/50\n",
      "\u001b[1m58/58\u001b[0m \u001b[32m━━━━━━━━━━━━━━━━━━━━\u001b[0m\u001b[37m\u001b[0m \u001b[1m5s\u001b[0m 87ms/step - accuracy: 0.7865 - loss: 0.6051 - val_accuracy: 0.5802 - val_loss: 1.4815 - learning_rate: 0.0010\n",
      "Epoch 40/50\n",
      "\u001b[1m58/58\u001b[0m \u001b[32m━━━━━━━━━━━━━━━━━━━━\u001b[0m\u001b[37m\u001b[0m \u001b[1m5s\u001b[0m 93ms/step - accuracy: 0.8280 - loss: 0.4542 - val_accuracy: 0.5694 - val_loss: 1.5037 - learning_rate: 0.0010\n",
      "Epoch 41/50\n",
      "\u001b[1m58/58\u001b[0m \u001b[32m━━━━━━━━━━━━━━━━━━━━\u001b[0m\u001b[37m\u001b[0m \u001b[1m6s\u001b[0m 95ms/step - accuracy: 0.8447 - loss: 0.4287 - val_accuracy: 0.5463 - val_loss: 1.6869 - learning_rate: 0.0010\n",
      "Epoch 42/50\n",
      "\u001b[1m58/58\u001b[0m \u001b[32m━━━━━━━━━━━━━━━━━━━━\u001b[0m\u001b[37m\u001b[0m \u001b[1m5s\u001b[0m 85ms/step - accuracy: 0.8452 - loss: 0.4444 - val_accuracy: 0.5571 - val_loss: 1.6692 - learning_rate: 0.0010\n",
      "Epoch 43/50\n",
      "\u001b[1m58/58\u001b[0m \u001b[32m━━━━━━━━━━━━━━━━━━━━\u001b[0m\u001b[37m\u001b[0m \u001b[1m5s\u001b[0m 93ms/step - accuracy: 0.8248 - loss: 0.4919 - val_accuracy: 0.5463 - val_loss: 1.7828 - learning_rate: 0.0010\n",
      "Epoch 44/50\n",
      "\u001b[1m58/58\u001b[0m \u001b[32m━━━━━━━━━━━━━━━━━━━━\u001b[0m\u001b[37m\u001b[0m \u001b[1m6s\u001b[0m 110ms/step - accuracy: 0.8877 - loss: 0.3598 - val_accuracy: 0.5694 - val_loss: 1.7463 - learning_rate: 4.0000e-04\n",
      "Epoch 45/50\n",
      "\u001b[1m58/58\u001b[0m \u001b[32m━━━━━━━━━━━━━━━━━━━━\u001b[0m\u001b[37m\u001b[0m \u001b[1m6s\u001b[0m 110ms/step - accuracy: 0.9019 - loss: 0.2695 - val_accuracy: 0.5926 - val_loss: 1.8294 - learning_rate: 4.0000e-04\n",
      "Epoch 46/50\n",
      "\u001b[1m58/58\u001b[0m \u001b[32m━━━━━━━━━━━━━━━━━━━━\u001b[0m\u001b[37m\u001b[0m \u001b[1m6s\u001b[0m 107ms/step - accuracy: 0.9143 - loss: 0.2422 - val_accuracy: 0.5772 - val_loss: 1.7734 - learning_rate: 4.0000e-04\n",
      "Epoch 47/50\n",
      "\u001b[1m58/58\u001b[0m \u001b[32m━━━━━━━━━━━━━━━━━━━━\u001b[0m\u001b[37m\u001b[0m \u001b[1m6s\u001b[0m 101ms/step - accuracy: 0.9075 - loss: 0.2524 - val_accuracy: 0.5664 - val_loss: 1.7942 - learning_rate: 4.0000e-04\n",
      "Epoch 48/50\n",
      "\u001b[1m58/58\u001b[0m \u001b[32m━━━━━━━━━━━━━━━━━━━━\u001b[0m\u001b[37m\u001b[0m \u001b[1m5s\u001b[0m 92ms/step - accuracy: 0.9209 - loss: 0.2400 - val_accuracy: 0.5602 - val_loss: 1.8030 - learning_rate: 4.0000e-04\n",
      "Epoch 49/50\n",
      "\u001b[1m58/58\u001b[0m \u001b[32m━━━━━━━━━━━━━━━━━━━━\u001b[0m\u001b[37m\u001b[0m \u001b[1m6s\u001b[0m 99ms/step - accuracy: 0.9336 - loss: 0.2210 - val_accuracy: 0.5571 - val_loss: 1.9024 - learning_rate: 4.0000e-04\n",
      "Epoch 50/50\n",
      "\u001b[1m58/58\u001b[0m \u001b[32m━━━━━━━━━━━━━━━━━━━━\u001b[0m\u001b[37m\u001b[0m \u001b[1m6s\u001b[0m 95ms/step - accuracy: 0.9283 - loss: 0.2146 - val_accuracy: 0.5756 - val_loss: 1.8258 - learning_rate: 4.0000e-04\n"
     ]
    },
    {
     "data": {
      "text/plain": [
       "<keras.src.callbacks.history.History at 0x263de2edb40>"
      ]
     },
     "execution_count": 151,
     "metadata": {},
     "output_type": "execute_result"
    }
   ],
   "source": [
    "# Code here\n",
    "modelo.fit(\n",
    "    x_train, y_train, batch_size=64, epochs=50, validation_data= (x_test, y_test),\n",
    "    callbacks=[ReduceLROnPlateau(monitor='loss', factor=0.4, patience=2, min_lr=0.0000001)])"
   ]
  },
  {
   "cell_type": "markdown",
   "metadata": {},
   "source": [
    "### 3.2. Avaliar e Visualizar a Performance do Modelo\n",
    "\n",
    "##### Passo 1: Avaliando o Modelo\n",
    "- **Precisão nos Dados de Teste**:\n",
    "  - Use `model.evaluate(x_test, y_test)` para calcular a precisão do modelo no conjunto de teste.\n",
    "\n",
    "##### Passo 2: Preparando os Gráficos\n",
    "- **Definindo Épocas**:\n",
    "  - Crie uma lista de épocas para o eixo x\n",
    "- **Configurando o Layout do Gráfico**:\n",
    "  - Use `fig, ax = plt.subplots(1, 2)` para criar dois gráficos lado a lado.\n",
    "\n",
    "##### Passo 3: Plotando a Perda\n",
    "- **Gráfico de Perda**:\n",
    "  - Plote a perda de treino e teste:\n",
    "    ```python\n",
    "    ax[0].plot(epochs, train_loss, label='Training Loss')\n",
    "    ax[0].plot(epochs, test_loss, label='Testing Loss')\n",
    "    ```\n",
    "\n",
    "##### Passo 4: Plotando a Precisão\n",
    "- **Gráfico de Precisão**:\n",
    "  - Plote a precisão de treino e teste:\n",
    "    ```python\n",
    "    ax[1].plot(epochs, train_acc, label='Training Accuracy')\n",
    "    ax[1].plot(epochs, test_acc, label='Testing Accuracy')\n",
    "    ```\n",
    "\n",
    "##### Objetivos:\n",
    "  - **Perda**: Ajuda a identificar se o modelo está treinando bem ou se há overfitting.\n",
    "  - **Precisão**: Mostra o quão eficaz é o treinamento do modelo em acertar as previsões.\n"
   ]
  },
  {
   "cell_type": "code",
   "execution_count": null,
   "metadata": {},
   "outputs": [
    {
     "name": "stdout",
     "output_type": "stream",
     "text": [
      "\u001b[1m21/21\u001b[0m \u001b[32m━━━━━━━━━━━━━━━━━━━━\u001b[0m\u001b[37m\u001b[0m \u001b[1m0s\u001b[0m 19ms/step - accuracy: 0.5549 - loss: 2.0504\n"
     ]
    },
    {
     "data": {
      "image/png": "[encoded data removed]",
      "text/plain": [
       "<Figure size 1200x500 with 2 Axes>"
      ]
     },
     "metadata": {},
     "output_type": "display_data"
    }
   ],
   "source": [
    "#Code here\n",
    "\n",
    "model_evaluate = modelo.evaluate(x_test, y_test) #avalia o modelo nos dados de teste\n",
    "\n",
    "#lista de numeros que representam as epocas, comprimento = 'loss'\n",
    "epocas = list(range(len(modelo.history.history['loss'])))\n",
    "train_loss = modelo.history.history['loss']  #perda durante o treinamento\n",
    "test_loss = modelo.history.history['val_loss'] #perda durante a validação.\n",
    "\n",
    "fig, ax = plt.subplots(1, 2, figsize=(12, 5))  #adicionei um tamanho para melhor visualização\n",
    "ax[0].plot(epocas, train_loss, label='Training Loss')\n",
    "ax[0].plot(epocas, test_loss, label='Validation Loss')  \n",
    "ax[0].set_title('Training & Testing Loss')\n",
    "ax[0].legend()\n",
    "\n",
    "#verifica qual nome de metrica foi usado\n",
    "accuracy_key = 'accuracy' if 'accuracy' in modelo.history.history else 'acc'\n",
    "val_accuracy_key = 'val_accuracy' if 'val_accuracy' in modelo.history.history else 'val_acc'\n",
    "\n",
    "#extrai os valores de acuracia de treino e validação\n",
    "train_acc = modelo.history.history[accuracy_key]\n",
    "test_acc = modelo.history.history[val_accuracy_key]\n",
    "\n",
    "ax[1].plot(epocas, train_acc, label='Training Accuracy')\n",
    "ax[1].plot(epocas, test_acc, label='Validation Accuracy')\n",
    "ax[1].set_title('Training & Testing Accurancy')\n",
    "ax[1].legend()\n",
    "\n",
    "plt.show()"
   ]
  },
  {
   "cell_type": "markdown",
   "metadata": {},
   "source": [
    "### 3.3. Chegou a parte boa! vamos prever os valores nos dados de teste\n",
    "- Passo 1: Use model.predict() no x_test e salve o resultado em pred_test.\n",
    "- Passo 2: Crie y_pred a partir de pred_test usando inverse_transform do encoder (Precisamos converter as previsões codificadas do One-Hot de volta aos rótulos originais)\n",
    "- Passo 3: Faça o mesmo para os rótulos de teste (y_test), decodificando-os de volta aos rótulos originais."
   ]
  },
  {
   "cell_type": "code",
   "execution_count": null,
   "metadata": {},
   "outputs": [
    {
     "name": "stdout",
     "output_type": "stream",
     "text": [
      "\u001b[1m21/21\u001b[0m \u001b[32m━━━━━━━━━━━━━━━━━━━━\u001b[0m\u001b[37m\u001b[0m \u001b[1m0s\u001b[0m 17ms/step\n"
     ]
    }
   ],
   "source": [
    "# Code here\n",
    "\n",
    "#prever os rotulos do conjunto de dados de teste com base nos valores previstos pelo modelo da arvore de decisão \n",
    "pred_test = modelo.predict(x_test) \n",
    "y_pred = encoder.inverse_transform(pred_test)\n",
    "y_test = encoder.inverse_transform(y_test) "
   ]
  },
  {
   "cell_type": "code",
   "execution_count": 191,
   "metadata": {},
   "outputs": [
    {
     "data": {
      "text/html": [
       "<div>\n",
       "<style scoped>\n",
       "    .dataframe tbody tr th:only-of-type {\n",
       "        vertical-align: middle;\n",
       "    }\n",
       "\n",
       "    .dataframe tbody tr th {\n",
       "        vertical-align: top;\n",
       "    }\n",
       "\n",
       "    .dataframe thead th {\n",
       "        text-align: right;\n",
       "    }\n",
       "</style>\n",
       "<table border=\"1\" class=\"dataframe\">\n",
       "  <thead>\n",
       "    <tr style=\"text-align: right;\">\n",
       "      <th></th>\n",
       "      <th>Predicted Labels</th>\n",
       "      <th>Actual Labels</th>\n",
       "    </tr>\n",
       "  </thead>\n",
       "  <tbody>\n",
       "    <tr>\n",
       "      <th>0</th>\n",
       "      <td>angry</td>\n",
       "      <td>angry</td>\n",
       "    </tr>\n",
       "    <tr>\n",
       "      <th>1</th>\n",
       "      <td>fear</td>\n",
       "      <td>fear</td>\n",
       "    </tr>\n",
       "    <tr>\n",
       "      <th>2</th>\n",
       "      <td>disgust</td>\n",
       "      <td>disgust</td>\n",
       "    </tr>\n",
       "    <tr>\n",
       "      <th>3</th>\n",
       "      <td>sad</td>\n",
       "      <td>sad</td>\n",
       "    </tr>\n",
       "    <tr>\n",
       "      <th>4</th>\n",
       "      <td>surprise</td>\n",
       "      <td>surprise</td>\n",
       "    </tr>\n",
       "    <tr>\n",
       "      <th>5</th>\n",
       "      <td>surprise</td>\n",
       "      <td>surprise</td>\n",
       "    </tr>\n",
       "    <tr>\n",
       "      <th>6</th>\n",
       "      <td>happy</td>\n",
       "      <td>disgust</td>\n",
       "    </tr>\n",
       "    <tr>\n",
       "      <th>7</th>\n",
       "      <td>angry</td>\n",
       "      <td>angry</td>\n",
       "    </tr>\n",
       "    <tr>\n",
       "      <th>8</th>\n",
       "      <td>calm</td>\n",
       "      <td>neutral</td>\n",
       "    </tr>\n",
       "    <tr>\n",
       "      <th>9</th>\n",
       "      <td>calm</td>\n",
       "      <td>sad</td>\n",
       "    </tr>\n",
       "  </tbody>\n",
       "</table>\n",
       "</div>"
      ],
      "text/plain": [
       "  Predicted Labels Actual Labels\n",
       "0            angry         angry\n",
       "1             fear          fear\n",
       "2          disgust       disgust\n",
       "3              sad           sad\n",
       "4         surprise      surprise\n",
       "5         surprise      surprise\n",
       "6            happy       disgust\n",
       "7            angry         angry\n",
       "8             calm       neutral\n",
       "9             calm           sad"
      ]
     },
     "execution_count": 191,
     "metadata": {},
     "output_type": "execute_result"
    }
   ],
   "source": [
    "# Rode essa célula para ver se o modelo que criamos está fazendo sentido para a maioria dos valores.\n",
    "\n",
    "df = pd.DataFrame(columns=['Predicted Labels', 'Actual Labels'])\n",
    "df['Predicted Labels'] = y_pred.flatten()\n",
    "df['Actual Labels'] = y_test.flatten() \n",
    "\n",
    "df.head(10)\n"
   ]
  },
  {
   "cell_type": "markdown",
   "metadata": {},
   "source": [
    "### 3.4. Plotar Matriz de Confusão\n",
    "- Agora tenho um desafio para você, eu quero que você crie uma matriz de confusão que relacione os resultados preditos com os valores reais das emoções!"
   ]
  },
  {
   "cell_type": "code",
   "execution_count": null,
   "metadata": {},
   "outputs": [
    {
     "data": {
      "text/plain": [
       "Text(0.5, 1.0, 'Matriz de Confusão')"
      ]
     },
     "execution_count": 192,
     "metadata": {},
     "output_type": "execute_result"
    },
    {
     "data": {
      "image/png": "[encoded data removed]",
      "text/plain": [
       "<Figure size 1500x1000 with 2 Axes>"
      ]
     },
     "metadata": {},
     "output_type": "display_data"
    }
   ],
   "source": [
    "#Code here\n",
    "\n",
    "#cria a matriz de confusão a partir de y_test (reais) e de y_pred (previstos pelo modelo)\n",
    "matriz_confusao = confusion_matrix(y_test, y_pred)\n",
    "emocoes = [\n",
    "    'calm', \n",
    "    'fear', \n",
    "    'disgust', \n",
    "    'sad', \n",
    "    'angry', \n",
    "    'happy', \n",
    "    'surprise', \n",
    "    'neutral', \n",
    "]\n",
    "fig, ax = plt.subplots(figsize=(15,10)) \n",
    "sns.heatmap(matriz_confusao, linewidths=1, annot=True, ax=ax, fmt='g', cmap='Blues', xticklabels=emocoes, yticklabels=emocoes)\n",
    "plt.title('Matriz de Confusão')"
   ]
  },
  {
   "cell_type": "code",
   "execution_count": 193,
   "metadata": {},
   "outputs": [
    {
     "name": "stdout",
     "output_type": "stream",
     "text": [
      "              precision    recall  f1-score   support\n",
      "\n",
      "        calm       0.85      0.59      0.70        86\n",
      "        fear       0.55      0.81      0.65        67\n",
      "     disgust       0.56      0.50      0.53        96\n",
      "         sad       0.56      0.58      0.57        86\n",
      "       angry       0.48      0.45      0.46        89\n",
      "       happy       0.50      0.45      0.47        47\n",
      "    surprise       0.51      0.52      0.51        87\n",
      "     neutral       0.64      0.71      0.67        90\n",
      "\n",
      "    accuracy                           0.58       648\n",
      "   macro avg       0.58      0.58      0.57       648\n",
      "weighted avg       0.59      0.58      0.57       648\n",
      "\n"
     ]
    }
   ],
   "source": [
    "# Use a função classification_report do sklearn para visualizar a precisão, recall e f1-score do modelo.\n",
    "# Code here\n",
    "print(classification_report(y_test, y_pred, target_names=emocoes, zero_division=0))"
   ]
  },
  {
   "cell_type": "markdown",
   "metadata": {},
   "source": [
    "### 4. Conclusão\n",
    "- Podemos ver que nosso modelo é mais preciso na predição das emoções surpresa e raiva, o que faz sentido, pois os arquivos de áudio dessas emoções diferem bastante dos outros em aspectos como tom, velocidade, etc.\n",
    "- No geral, alcançamos 62% de precisão nos dados de teste, o que é razoável, mas podemos melhorar ainda mais aplicando mais técnicas de aumento de dados e utilizando outros métodos de extração de features."
   ]
  },
  {
   "cell_type": "markdown",
   "metadata": {},
   "source": [
    "### 5. Salvando o Modelo e o Scaler"
   ]
  },
  {
   "cell_type": "markdown",
   "metadata": {},
   "source": [
    "##### Passo 1: Salvando o Modelo\n",
    "1. **Importação:** Use o `load_model` do Keras.\n",
    "2. **Diretório:** Crie um diretório chamado `models` se não existir.\n",
    "3. **Salvar:** Salve o modelo como no caminho especificado.\n",
    "\n",
    "##### Passo 2: Salvando o Scaler\n",
    "1. **Importação:** Use `joblib`.\n",
    "2. **Diretório:** Utilize o mesmo caminho `models`.\n",
    "3. **Salvar:** Salve o scaler."
   ]
  },
  {
   "cell_type": "code",
   "execution_count": null,
   "metadata": {},
   "outputs": [
    {
     "name": "stdout",
     "output_type": "stream",
     "text": [
      "Modelo salvo em: c:\\Users\\slash\\OneDrive\\Área de Trabalho\\TRILHA\\Mini_projeto_2\\miniprojeto2\\models\\audio_emotion_model.keras\n"
     ]
    }
   ],
   "source": [
    "# Code here\n",
    "\n",
    "from tensorflow.keras.models import load_model\n",
    "\n",
    "root_path = os.path.abspath(os.path.join(os.getcwd(), \"..\"))\n",
    "models_dir = os.path.join(root_path, \"models\") #criando pasta 'models'   \n",
    "os.makedirs(models_dir, exist_ok=True)\n",
    "model_path = os.path.join(models_dir, \"audio_emotion_model.keras\") #definindo o nome do arquivo \n",
    "modelo.save(model_path) #salvando o modelo no formato .keras\n",
    "print(f\"Modelo salvo em: {model_path}\")\n"
   ]
  },
  {
   "cell_type": "code",
   "execution_count": null,
   "metadata": {},
   "outputs": [
    {
     "name": "stdout",
     "output_type": "stream",
     "text": [
      "Scaler salvo em: c:\\Users\\slash\\OneDrive\\Área de Trabalho\\TRILHA\\Mini_projeto_2\\miniprojeto2\\models\\scaler.jolib\n"
     ]
    }
   ],
   "source": [
    "# Code here\n",
    "\n",
    "import joblib\n",
    "\n",
    "models_dir = os.path.abspath(os.path.join(os.getcwd(), \"..\", \"models\"))\n",
    "os.makedirs(models_dir, exist_ok=True)\n",
    "scaler_path = os.path.join(models_dir, \"scaler.jolib\") #nome do arquivo\n",
    "joblib.dump(scaler, scaler_path) \n",
    "\n",
    "print(f\"Scaler salvo em: {scaler_path}\")\n",
    "\n"
   ]
  }
 ],
 "metadata": {
  "kernelspec": {
   "display_name": "venv",
   "language": "python",
   "name": "python3"
  },
  "language_info": {
   "codemirror_mode": {
    "name": "ipython",
    "version": 3
   },
   "file_extension": ".py",
   "mimetype": "text/x-python",
   "name": "python",
   "nbconvert_exporter": "python",
   "pygments_lexer": "ipython3",
   "version": "3.10.1"
  }
 },
 "nbformat": 4,
 "nbformat_minor": 4
}
